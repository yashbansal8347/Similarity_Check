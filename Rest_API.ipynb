{
 "cells": [
  {
   "cell_type": "code",
   "execution_count": 1,
   "metadata": {
    "id": "RKc94U_5_rZU",
    "scrolled": true
   },
   "outputs": [
    {
     "name": "stderr",
     "output_type": "stream",
     "text": [
      "C:\\Users\\yashb\\AppData\\Local\\Temp\\ipykernel_17860\\774998009.py:1: DeprecationWarning: \n",
      "Pyarrow will become a required dependency of pandas in the next major release of pandas (pandas 3.0),\n",
      "(to allow more performant data types, such as the Arrow string type, and better interoperability with other libraries)\n",
      "but was not found to be installed on your system.\n",
      "If this would cause problems for you,\n",
      "please provide us feedback at https://github.com/pandas-dev/pandas/issues/54466\n",
      "        \n",
      "  import pandas as pd\n"
     ]
    }
   ],
   "source": [
    "import pandas as pd\n",
    "import numpy as np\n",
    "import matplotlib.pyplot as plt\n",
    "import re\n",
    "from nltk import sent_tokenize\n",
    "from gensim.utils import simple_preprocess\n",
    "import joblib"
   ]
  },
  {
   "cell_type": "code",
   "execution_count": 2,
   "metadata": {
    "id": "RCz-6ZF2_sEU"
   },
   "outputs": [],
   "source": [
    "def preProcessText(text):\n",
    "    for doc in text:\n",
    "        doc = re.sub(r\"\\\\n\", \"\", doc)\n",
    "        doc = re.sub(r\"\\W\", \" \", doc) #remove non words char\n",
    "        doc = re.sub(r\"\\d\",\" \", doc) #remove digits char\n",
    "        doc = re.sub(r'\\s+[a-z]\\s+', \"\", doc) # remove a single char\n",
    "        doc = re.sub(r'^[a-z]\\s+', \"\", doc) #remove a single character at the start of a document\n",
    "        doc = re.sub(r'\\s+', \" \", doc)  #replace an extra space with a single space\n",
    "        doc = re.sub(r'^\\s', \"\", doc) # remove space at the start of a doc\n",
    "        doc = re.sub(r'\\s$', \"\", doc) # remove space at the end of a document\n",
    "    return doc.lower()"
   ]
  },
  {
   "cell_type": "code",
   "execution_count": 3,
   "metadata": {
    "id": "TQD9QTdbBKmW"
   },
   "outputs": [],
   "source": [
    "model = joblib.load('model.pkl')"
   ]
  },
  {
   "cell_type": "code",
   "execution_count": 4,
   "metadata": {
    "id": "H5AGPCE_B84e"
   },
   "outputs": [],
   "source": [
    "model_vocab = joblib.load('model_vocab.pkl')"
   ]
  },
  {
   "cell_type": "code",
   "execution_count": 7,
   "metadata": {
    "id": "FgB1Ad0PCQXd"
   },
   "outputs": [],
   "source": [
    "def change(st):\n",
    "  sent = [w for w in st.split() if w in model_vocab]\n",
    "  return sent"
   ]
  },
  {
   "cell_type": "code",
   "execution_count": 8,
   "metadata": {
    "id": "kxjMiKrfCV79"
   },
   "outputs": [],
   "source": [
    "def similarity_check(text1,text2):\n",
    "  text1 = change(text1)\n",
    "  text2 = change(text2)\n",
    "  val = model.wv.n_similarity(text1,text2)\n",
    "  return val"
   ]
  },
  {
   "cell_type": "code",
   "execution_count": 11,
   "metadata": {
    "colab": {
     "base_uri": "https://localhost:8080/"
    },
    "id": "881IjMaIDMSt",
    "outputId": "1e20a8df-14a2-44d8-9b69-b738b5a84dc5"
   },
   "outputs": [
    {
     "name": "stdout",
     "output_type": "stream",
     "text": [
      " * Serving Flask app '__main__'\n",
      " * Debug mode: off\n"
     ]
    },
    {
     "name": "stderr",
     "output_type": "stream",
     "text": [
      "WARNING: This is a development server. Do not use it in a production deployment. Use a production WSGI server instead.\n",
      " * Running on http://127.0.0.1:5000\n",
      "Press CTRL+C to quit\n",
      "127.0.0.1 - - [04/Feb/2024 19:03:10] \"POST /api/sent HTTP/1.1\" 200 -\n"
     ]
    }
   ],
   "source": [
    "from flask import Flask, jsonify,request\n",
    "import json\n",
    "from flask_cors import CORS\n",
    "import time\n",
    "app = Flask(__name__)\n",
    "CORS(app)\n",
    "@app.route(\"/\")\n",
    "def main():\n",
    "    return 'Hello from get request'\n",
    "\n",
    "@app.route('/api/sent',methods=['POST'])\n",
    "def add():\n",
    "    text1 = request.json[\"text1\"]\n",
    "    text2 = request.json[\"text2\"]\n",
    "    output_dict = {}\n",
    "#     print(type(similarity_check(text1,text2)))\n",
    "    output_dict['Similarity_percent'] = str(similarity_check(text1,text2))\n",
    "#     print(output_dict)\n",
    "    return jsonify(output_dict)\n",
    "\n",
    "if __name__ == '__main__':\n",
    "    app.run()\n"
   ]
  },
  {
   "cell_type": "code",
   "execution_count": null,
   "metadata": {},
   "outputs": [],
   "source": []
  }
 ],
 "metadata": {
  "colab": {
   "provenance": []
  },
  "kernelspec": {
   "display_name": "env",
   "language": "python",
   "name": "env"
  },
  "language_info": {
   "codemirror_mode": {
    "name": "ipython",
    "version": 3
   },
   "file_extension": ".py",
   "mimetype": "text/x-python",
   "name": "python",
   "nbconvert_exporter": "python",
   "pygments_lexer": "ipython3",
   "version": "3.10.0"
  }
 },
 "nbformat": 4,
 "nbformat_minor": 1
}
